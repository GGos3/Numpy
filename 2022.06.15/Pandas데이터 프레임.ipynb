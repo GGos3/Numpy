{
 "cells": [
  {
   "cell_type": "code",
   "execution_count": 35,
   "metadata": {},
   "outputs": [],
   "source": [
    "import pandas as pd"
   ]
  },
  {
   "cell_type": "code",
   "execution_count": 36,
   "metadata": {},
   "outputs": [
    {
     "data": {
      "text/plain": [
       "떡볶이    1000.0\n",
       "마라탕       NaN\n",
       "순대        NaN\n",
       "족발        NaN\n",
       "치킨        0.0\n",
       "컵밥        NaN\n",
       "피자     4000.0\n",
       "dtype: float64"
      ]
     },
     "execution_count": 36,
     "metadata": {},
     "output_type": "execute_result"
    }
   ],
   "source": [
    "ss = pd.Series([5000, 15000, 10000, 20000, 15000],\n",
    "               index = ['떡볶이', '치킨', '피자', '족발', '순대'] )\n",
    "bb = pd.Series([4000, 15000, 6000, 5000, 8000],\n",
    "               index = ['떡볶이', '치킨', '피자', '컵밥', '마라탕'])\n",
    "\n",
    "cc = ss - bb\n",
    "cc"
   ]
  },
  {
   "cell_type": "code",
   "execution_count": 37,
   "metadata": {},
   "outputs": [
    {
     "data": {
      "text/plain": [
       "떡볶이    1000.0\n",
       "치킨        0.0\n",
       "피자     4000.0\n",
       "dtype: float64"
      ]
     },
     "execution_count": 37,
     "metadata": {},
     "output_type": "execute_result"
    }
   ],
   "source": [
    "cc = cc[cc.notnull()]\n",
    "cc"
   ]
  },
  {
   "cell_type": "code",
   "execution_count": 38,
   "metadata": {},
   "outputs": [
    {
     "data": {
      "text/plain": [
       "떡볶이     5000\n",
       "치킨     15000\n",
       "피자     10000\n",
       "족발     20000\n",
       "순대      8000\n",
       "dtype: int64"
      ]
     },
     "execution_count": 38,
     "metadata": {},
     "output_type": "execute_result"
    }
   ],
   "source": [
    "ss[\"순대\"] = 8000\n",
    "ss"
   ]
  },
  {
   "cell_type": "code",
   "execution_count": 39,
   "metadata": {},
   "outputs": [
    {
     "data": {
      "text/plain": [
       "떡볶이     4000\n",
       "치킨     15000\n",
       "피자      6000\n",
       "컵밥      5000\n",
       "dtype: int64"
      ]
     },
     "execution_count": 39,
     "metadata": {},
     "output_type": "execute_result"
    }
   ],
   "source": [
    "del bb[\"마라탕\"]\n",
    "bb"
   ]
  },
  {
   "cell_type": "markdown",
   "metadata": {},
   "source": [
    "<h4>데이터 프레임</h4>\n",
    "\n",
    "엑셀과 같이 인덱스, 변수, 값 으로 이루어진 데이터 구조\n",
    "\n",
    "대용량 데이터를 빠르고 쉽게 다룰 수 있음\n",
    "\n",
    "한계용량은 엑셀 약 100MB Pandas 는 1Gb ~ 100GB 활용 가능\n",
    "\n",
    "복잡한 기능을 구현하기가 쉽고 데이터 전처리를 쉽게 할 수 있음\n",
    "\n",
    "다른시스템과 연동이 쉬움"
   ]
  },
  {
   "cell_type": "code",
   "execution_count": null,
   "metadata": {},
   "outputs": [],
   "source": [
    "# 열이름을 key로 하고, 리스트를 value로 갖는 딕셔너리 정의 (2차원 배열)\n",
    "dict_data = {'c0':[1,2,3], 'c1':[4,5,6,], 'c2':[7,8,9,], 'c3':[10,11,12], 'c4':[13,14,15]}\n",
    "\n",
    "# 판다스 DataFrame() 함수로 딕셔너리를 데이터프레임으로 변환. 변수 df에 저장,\n",
    "df = pd.DataFrame(dict_data)\n",
    "\n",
    "# df의 자료형 출력\n",
    "print(type(df))\n",
    "print('\\n')\n",
    "\n",
    "# 변수 df에 저장되어 있는 데이터프레임 객체를 출력\n",
    "print(df)"
   ]
  }
 ],
 "metadata": {
  "interpreter": {
   "hash": "d07e2768d665205303684de8508d9079185692021437b341c911edcaecb04f40"
  },
  "kernelspec": {
   "display_name": "Python 3.9.5 64-bit",
   "language": "python",
   "name": "python3"
  },
  "language_info": {
   "codemirror_mode": {
    "name": "ipython",
    "version": 3
   },
   "file_extension": ".py",
   "mimetype": "text/x-python",
   "name": "python",
   "nbconvert_exporter": "python",
   "pygments_lexer": "ipython3",
   "version": "3.9.5"
  },
  "orig_nbformat": 4
 },
 "nbformat": 4,
 "nbformat_minor": 2
}
