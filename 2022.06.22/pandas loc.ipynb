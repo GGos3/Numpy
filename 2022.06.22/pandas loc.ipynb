{
 "cells": [
  {
   "cell_type": "code",
   "execution_count": 526,
   "metadata": {},
   "outputs": [
    {
     "name": "stdout",
     "output_type": "stream",
     "text": [
      "    수학  영어   음악   체육\n",
      "서준  90  98   85  100\n",
      "우현  80  89   95   90\n",
      "인아  70  95  100   90\n",
      "\n",
      "\n",
      "수학     90\n",
      "영어     98\n",
      "음악     85\n",
      "체육    100\n",
      "Name: 서준, dtype: int64\n",
      "\n",
      "\n",
      "수학     90\n",
      "영어     98\n",
      "음악     85\n",
      "체육    100\n",
      "Name: 서준, dtype: int64\n",
      "\n",
      "\n"
     ]
    }
   ],
   "source": [
    "import pandas as pd\n",
    "\n",
    "# DataFrame() 함수로 데이터 프레임 변환, 변수 df에 저장\n",
    "exam_data = {'수학' : [90, 80, 70], '영어' : [98, 89 , 95],\n",
    "             '음악' : [85, 95, 100], '체육' : [100, 90 ,90]}\n",
    "\n",
    "df = pd.DataFrame(exam_data, index=['서준', '우현', '인아'])\n",
    "print(df)   # 데이터프레임 출력\n",
    "print('\\n')\n",
    "\n",
    "#  행 인덱스를 사용하여 행 1개를 선택\n",
    "label1 = df.loc['서준']     # loc 인덱서 활용\n",
    "posittion1 = df.iloc[0]     # iloc 인덱서 활용\n",
    "print(label1)\n",
    "print('\\n')\n",
    "print(posittion1)\n",
    "print('\\n')"
   ]
  },
  {
   "cell_type": "code",
   "execution_count": 527,
   "metadata": {},
   "outputs": [
    {
     "name": "stdout",
     "output_type": "stream",
     "text": [
      "    수학  영어  음악   체육\n",
      "서준  90  98  85  100\n",
      "우현  80  89  95   90\n",
      "\n",
      "\n",
      "수학     90\n",
      "영어     98\n",
      "음악     85\n",
      "체육    100\n",
      "Name: 서준, dtype: int64\n"
     ]
    }
   ],
   "source": [
    "label2 = df.loc[['서준', '우현']]\n",
    "posittion2 = df.iloc[0]\n",
    "print(label2)\n",
    "print('\\n')\n",
    "print(posittion2)"
   ]
  },
  {
   "cell_type": "code",
   "execution_count": 528,
   "metadata": {},
   "outputs": [
    {
     "name": "stdout",
     "output_type": "stream",
     "text": [
      "    수학  영어  음악   체육\n",
      "서준  90  98  85  100\n",
      "우현  80  89  95   90\n",
      "\n",
      "\n",
      "98\n"
     ]
    }
   ],
   "source": [
    "# 행 인덱스의 범위를 지정하여 행 선택\n",
    "label3 = df.loc['서준':'우현']\n",
    "posittion3 = df.iloc[0, 1]\n",
    "print(label3)\n",
    "print('\\n')\n",
    "print(posittion3)"
   ]
  },
  {
   "cell_type": "code",
   "execution_count": 529,
   "metadata": {},
   "outputs": [
    {
     "name": "stdout",
     "output_type": "stream",
     "text": [
      "    이름  수학  영어   음악   체육\n",
      "서준  서준  90  98   85  100\n",
      "우현  우현  80  89   95   90\n",
      "인아  인아  70  95  100   90\n",
      "\n",
      "\n",
      "서준    90\n",
      "우현    80\n",
      "인아    70\n",
      "Name: 수학, dtype: int64\n",
      "<class 'pandas.core.series.Series'>\n",
      "\n",
      "\n",
      "서준    98\n",
      "우현    89\n",
      "인아    95\n",
      "Name: 영어, dtype: int64\n",
      "<class 'pandas.core.series.Series'>\n",
      "\n",
      "\n"
     ]
    }
   ],
   "source": [
    "# DataFrame() 함수로 데이터 프레임 변환, 변수 df에 저장\n",
    "exam_data = {'이름' : ['서준', '우현', '인아'], \n",
    "             '수학' : [90, 80, 70], \n",
    "             '영어' : [98, 89 , 95],\n",
    "             '음악' : [85, 95, 100], \n",
    "             '체육' : [100, 90 ,90]}\n",
    "\n",
    "df = pd.DataFrame(exam_data, index=['서준', '우현', '인아'])\n",
    "print(df)   # 데이터프레임 출력\n",
    "print('\\n')\n",
    "\n",
    "math1 = df['수학']\n",
    "print(math1)\n",
    "print(type(math1))\n",
    "print('\\n')\n",
    "\n",
    "english = df.영어\n",
    "print(english)\n",
    "print(type(english))\n",
    "print('\\n')"
   ]
  },
  {
   "cell_type": "code",
   "execution_count": 530,
   "metadata": {},
   "outputs": [
    {
     "name": "stdout",
     "output_type": "stream",
     "text": [
      "[['수학']]\n",
      "<class 'list'>\n"
     ]
    }
   ],
   "source": [
    "# 수학 점수 데이터만 선택. 변수 math2 에 저장\n",
    "math2 = [['수학']]\n",
    "print(math2)\n",
    "print(type(math2))"
   ]
  },
  {
   "cell_type": "code",
   "execution_count": 531,
   "metadata": {},
   "outputs": [
    {
     "name": "stdout",
     "output_type": "stream",
     "text": [
      "     음악   체육\n",
      "서준   85  100\n",
      "우현   95   90\n",
      "인아  100   90\n",
      "<class 'pandas.core.frame.DataFrame'>\n",
      "\n",
      "\n"
     ]
    }
   ],
   "source": [
    "# 음악 체욱 점수 데이터를 선택. 변수 music_gym에 저장\n",
    "music_gym = df[['음악', '체육']]\n",
    "print(music_gym)\n",
    "print(type(music_gym))\n",
    "print('\\n')"
   ]
  },
  {
   "cell_type": "code",
   "execution_count": 532,
   "metadata": {},
   "outputs": [
    {
     "name": "stdout",
     "output_type": "stream",
     "text": [
      "    이름  수학  영어   음악   체육\n",
      "서준  서준  90  98   85  100\n",
      "우현  우현  80  89   95   90\n",
      "인아  인아  70  95  100   90\n",
      "\n",
      "\n",
      "    수학  영어   음악   체육\n",
      "이름                  \n",
      "서준  90  98   85  100\n",
      "우현  80  89   95   90\n",
      "인아  70  95  100   90\n",
      "\n",
      "\n"
     ]
    }
   ],
   "source": [
    "# DataFrame() 함수로 데이터 프레임 변환, 변수 df에 저장\n",
    "exam_data = {'이름' : ['서준', '우현', '인아'], \n",
    "             '수학' : [90, 80, 70], \n",
    "             '영어' : [98, 89 , 95],\n",
    "             '음악' : [85, 95, 100], \n",
    "             '체육' : [100, 90 ,90]}\n",
    "\n",
    "df = pd.DataFrame(exam_data, index=['서준', '우현', '인아'])\n",
    "print(df)   # 데이터프레임 출력\n",
    "print('\\n')\n",
    "\n",
    "# '이름'열을 새로운 인덱스로 지정하고, df 객체에 변경사항 반영\n",
    "df.set_index('이름', inplace = True)\n",
    "print(df)\n",
    "print('\\n')"
   ]
  },
  {
   "cell_type": "code",
   "execution_count": 533,
   "metadata": {},
   "outputs": [
    {
     "name": "stdout",
     "output_type": "stream",
     "text": [
      "85\n",
      "85\n",
      "\n",
      "\n"
     ]
    }
   ],
   "source": [
    "# 데이터프레임 df의 특정 원소 1개 선택\n",
    "a = df.loc['서준', '음악']\n",
    "print(a)\n",
    "b = df.iloc[0, 2]\n",
    "print(b)\n",
    "print('\\n')"
   ]
  },
  {
   "cell_type": "code",
   "execution_count": 534,
   "metadata": {},
   "outputs": [
    {
     "name": "stdout",
     "output_type": "stream",
     "text": [
      "음악     85\n",
      "체육    100\n",
      "Name: 서준, dtype: int64\n",
      "음악     85\n",
      "체육    100\n",
      "Name: 서준, dtype: int64\n",
      "음악     85\n",
      "체육    100\n",
      "Name: 서준, dtype: int64\n",
      "음악     85\n",
      "체육    100\n",
      "Name: 서준, dtype: int64\n",
      "\n",
      "\n"
     ]
    }
   ],
   "source": [
    "# 데이터프레임 df의 특정 원소 2개 이상 선택\n",
    "c = df.loc['서준', ['음악', '체육']]\n",
    "print(c)\n",
    "d = df.iloc[0, [2, 3]]\n",
    "print(d)\n",
    "e = df.loc['서준', '음악':'체육']\n",
    "print(e)\n",
    "f = df.iloc[0, 2:]\n",
    "print(f)\n",
    "print('\\n')"
   ]
  },
  {
   "cell_type": "code",
   "execution_count": 535,
   "metadata": {},
   "outputs": [
    {
     "name": "stdout",
     "output_type": "stream",
     "text": [
      "    음악   체육\n",
      "이름         \n",
      "서준  85  100\n",
      "우현  95   90\n",
      "    음악   체육\n",
      "이름         \n",
      "서준  85  100\n",
      "우현  95   90\n",
      "    음악   체육\n",
      "이름         \n",
      "서준  85  100\n",
      "우현  95   90\n",
      "    음악   체육\n",
      "이름         \n",
      "서준  85  100\n",
      "우현  95   90\n"
     ]
    }
   ],
   "source": [
    "g = df.loc[['서준','우현'], ['음악', '체육']]\n",
    "print(g)\n",
    "h = d = df.iloc[[0,1], [2, 3]]\n",
    "print(h)\n",
    "i = df.loc['서준':'우현', '음악':'체육']\n",
    "print(i)\n",
    "j = df.iloc[0:2, 2:]\n",
    "print(j)"
   ]
  },
  {
   "cell_type": "code",
   "execution_count": 536,
   "metadata": {},
   "outputs": [
    {
     "name": "stdout",
     "output_type": "stream",
     "text": [
      "    수학  영어   음악   체육\n",
      "이름                  \n",
      "서준  90  98   85  100\n",
      "우현  80  89   95   90\n",
      "인아  70  95  100   90\n",
      "\n",
      "\n",
      "    수학  영어   음악   체육  국어\n",
      "이름                      \n",
      "서준  90  98   85  100  80\n",
      "우현  80  89   95   90  80\n",
      "인아  70  95  100   90  80\n"
     ]
    }
   ],
   "source": [
    "# DataFrame() 함수로 데이터 프레임 변환, 변수 df에 저장\n",
    "exam_data = {'이름' : ['서준', '우현', '인아'], \n",
    "             '수학' : [90, 80, 70], \n",
    "             '영어' : [98, 89 , 95],\n",
    "             '음악' : [85, 95, 100], \n",
    "             '체육' : [100, 90 ,90]}\n",
    "\n",
    "df = pd.DataFrame(exam_data, index=['서준', '우현', '인아'])\n",
    "\n",
    "# '이름'열을 새로운 인덱스로 지정하고, df 객체에 변경사항 반영\n",
    "df.set_index('이름', inplace = True)\n",
    "print(df)\n",
    "print('\\n')\n",
    "\n",
    "# 데이터프레임 df에 국어 점수 열을 추가, 데이터 값은 80 지정\n",
    "df['국어'] = 80\n",
    "print(df)\n",
    "# 열 추가"
   ]
  },
  {
   "cell_type": "code",
   "execution_count": 537,
   "metadata": {},
   "outputs": [
    {
     "name": "stdout",
     "output_type": "stream",
     "text": [
      "    수학  영어   음악   체육  국어\n",
      "이름                      \n",
      "서준  90  98   85  100  80\n",
      "우현  80  89   95   90  80\n",
      "인아  70  95  100   90  80\n",
      "3    0   0    0    0   0\n",
      "\n",
      "\n",
      "    수학  영어   음악   체육  국어\n",
      "이름                      \n",
      "서준  90  98   85  100  80\n",
      "우현  80  89   95   90  80\n",
      "인아  70  95  100   90  80\n",
      "3    0   0    0    0   0\n",
      "4   동규  90   80   70  60\n",
      "\n",
      "\n",
      "    수학  영어   음악   체육  국어\n",
      "이름                      \n",
      "서준  90  98   85  100  80\n",
      "우현  80  89   95   90  80\n",
      "인아  70  95  100   90  80\n",
      "3    0   0    0    0   0\n",
      "4   동규  90   80   70  60\n",
      "행5   0   0    0    0   0\n"
     ]
    }
   ],
   "source": [
    "df.loc[3] = 0\n",
    "print(df)\n",
    "print('\\n')\n",
    "df.loc[4] = ['동규', 90, 80, 70, 60]\n",
    "print(df)\n",
    "print('\\n')\n",
    "\n",
    "# 새로운 행 추가 - 기존 행 복사\n",
    "df.loc['행5'] = df.loc[3]\n",
    "print(df)"
   ]
  },
  {
   "cell_type": "code",
   "execution_count": 538,
   "metadata": {},
   "outputs": [
    {
     "name": "stdout",
     "output_type": "stream",
     "text": [
      "    수학  영어   음악   체육  국어\n",
      "이름                      \n",
      "서준  90  98   85  100  80\n",
      "우현  80  89   95   90  80\n",
      "인아  70  95  100   90  80\n",
      "3    0   0    0    0   0\n",
      "4   동규  90   80   70  60\n",
      "행5   0   0    0    0   0\n",
      "\n",
      "\n",
      "    수학  영어   음악  체육  국어\n",
      "이름                     \n",
      "서준  90  98   85  80  80\n",
      "우현  80  89   95  90  80\n",
      "인아  70  95  100  90  80\n",
      "3    0   0    0   0   0\n",
      "4   동규  90   80  70  60\n",
      "행5   0   0    0   0   0\n",
      "\n",
      "\n",
      "     수학    영어     음악    체육    국어\n",
      "이름                              \n",
      "서준   90  98.0   85.0  80.0  80.0\n",
      "우현   80  89.0   95.0  90.0  80.0\n",
      "인아   70  95.0  100.0  90.0  80.0\n",
      "3     0   0.0    0.0   0.0   0.0\n",
      "4    동규  90.0   80.0  70.0  60.0\n",
      "행5    0   0.0    0.0   0.0   0.0\n",
      "0   NaN   NaN    NaN  90.0   NaN\n",
      "\n",
      "\n",
      "     수학    영어     음악     체육    국어\n",
      "이름                               \n",
      "서준   90  98.0   85.0   80.0  80.0\n",
      "우현   80  89.0   95.0   90.0  80.0\n",
      "인아   70  95.0  100.0   90.0  80.0\n",
      "3     0   0.0    0.0    0.0   0.0\n",
      "4    동규  90.0   80.0   70.0  60.0\n",
      "행5    0   0.0    0.0    0.0   0.0\n",
      "0   NaN   NaN    NaN  100.0   NaN\n",
      "\n",
      "\n"
     ]
    }
   ],
   "source": [
    "# DataFrame() 함수로 데이터 프레임 변환, 변수 df에 저장\n",
    "exam_data = {'이름' : ['서준', '우현', '인아'], \n",
    "             '수학' : [90, 80, 70], \n",
    "             '영어' : [98, 89 , 95],\n",
    "             '음악' : [85, 95, 100], \n",
    "             '체육' : [100, 90 ,90]}\n",
    "\n",
    "print(df)   # 데이터프레임 출력\n",
    "print('\\n')\n",
    "\n",
    "# 데이터프레임 df의 특정 원소를 변경하는 방법\n",
    "df.iloc[0, 3] = 80\n",
    "print(df)\n",
    "print('\\n')\n",
    "df.loc[0, '체육'] = 90\n",
    "print(df)\n",
    "print('\\n')\n",
    "df.loc[0, '체육'] = 100\n",
    "print(df)\n",
    "print('\\n')"
   ]
  },
  {
   "cell_type": "code",
   "execution_count": 539,
   "metadata": {},
   "outputs": [
    {
     "name": "stdout",
     "output_type": "stream",
     "text": [
      "     수학    영어     음악     체육    국어\n",
      "이름                               \n",
      "서준   90  98.0   85.0   50.0  50.0\n",
      "우현   80  89.0   95.0   90.0  80.0\n",
      "인아   70  95.0  100.0   90.0  80.0\n",
      "3     0   0.0    0.0    0.0   0.0\n",
      "4    동규  90.0   80.0   70.0  60.0\n",
      "행5    0   0.0    0.0    0.0   0.0\n",
      "0   NaN   NaN    NaN  100.0   NaN\n",
      "\n",
      "\n",
      "     수학    영어     음악     체육    국어\n",
      "이름                               \n",
      "서준   90  98.0   85.0  100.0  50.0\n",
      "우현   80  89.0   95.0   90.0  80.0\n",
      "인아   70  95.0  100.0   90.0  80.0\n",
      "3     0   0.0    0.0    0.0   0.0\n",
      "4    동규  90.0   80.0   70.0  60.0\n",
      "행5    0   0.0    0.0    0.0   0.0\n",
      "0   NaN   NaN    NaN  100.0   NaN\n"
     ]
    }
   ],
   "source": [
    "# 데이터프레임 df의 원소 여러 개를 변경하는 방법\n",
    "df.iloc[0, 3:5] = 50\n",
    "print(df)\n",
    "print('\\n')\n",
    "\n",
    "df.iloc[0, 3:5] = 100, 50\n",
    "print(df)"
   ]
  },
  {
   "cell_type": "code",
   "execution_count": 540,
   "metadata": {},
   "outputs": [
    {
     "name": "stdout",
     "output_type": "stream",
     "text": [
      "   이름  수학  영어   음악   체육\n",
      "0  서준  90  98   85  100\n",
      "1  우현  80  89   95   90\n",
      "2  인아  70  95  100   90\n",
      "\n",
      "\n",
      "      0   1    2\n",
      "이름   서준  우현   인아\n",
      "수학   90  80   70\n",
      "영어   98  89   95\n",
      "음악   85  95  100\n",
      "체육  100  90   90\n",
      "\n",
      "\n",
      "   이름  수학  영어   음악   체육\n",
      "0  서준  90  98   85  100\n",
      "1  우현  80  89   95   90\n",
      "2  인아  70  95  100   90\n"
     ]
    }
   ],
   "source": [
    "# DataFrame() 함수로 데이터 프레임 변환, 변수 df에 저장\n",
    "exam_data = {'이름' : ['서준', '우현', '인아'], \n",
    "             '수학' : [90, 80, 70], \n",
    "             '영어' : [98, 89 , 95],\n",
    "             '음악' : [85, 95, 100], \n",
    "             '체육' : [100, 90 ,90]}\n",
    "\n",
    "df = pd.DataFrame(exam_data)\n",
    "print(df)   # 데이터프레임 출력\n",
    "print('\\n')\n",
    "\n",
    "# 데이터프레임 df를 전치하기 (메소드 활용)\n",
    "df = df.transpose()\n",
    "print(df)\n",
    "print('\\n')\n",
    "\n",
    "# 데이터프레임 df를 다시 전치하기 (클래스 속성 활용)\n",
    "df = df.T\n",
    "print(df)"
   ]
  },
  {
   "cell_type": "code",
   "execution_count": 541,
   "metadata": {},
   "outputs": [
    {
     "name": "stdout",
     "output_type": "stream",
     "text": [
      "   이름  수학  영어   음악   체육\n",
      "0  서준  90  98   85  100\n",
      "1  우현  80  89   95   90\n",
      "2  인아  70  95  100   90\n",
      "\n",
      "\n"
     ]
    }
   ],
   "source": [
    "# DataFrame() 함수로 데이터 프레임 변환, 변수 df에 저장\n",
    "exam_data = {'이름' : ['서준', '우현', '인아'], \n",
    "             '수학' : [90, 80, 70], \n",
    "             '영어' : [98, 89 , 95],\n",
    "             '음악' : [85, 95, 100], \n",
    "             '체육' : [100, 90 ,90]}\n",
    "\n",
    "df = pd.DataFrame(exam_data)\n",
    "print(df)\n",
    "print('\\n')\n"
   ]
  },
  {
   "cell_type": "code",
   "execution_count": 542,
   "metadata": {},
   "outputs": [
    {
     "name": "stdout",
     "output_type": "stream",
     "text": [
      "    이름  수학  영어   음악   체육  빅데이터\n",
      "0   서준  90  98   85  100    90\n",
      "1   우현  80  89   95   90    50\n",
      "2   인아  70  95  100   90   100\n",
      "3  한돌이  50  60   70  100   100\n"
     ]
    }
   ],
   "source": [
    "df.loc[3] = ['한돌이', 50, 60, 70, 100]\n",
    "df['빅데이터'] = 90, 50, 100, 100\n",
    "print(df)"
   ]
  },
  {
   "cell_type": "code",
   "execution_count": 543,
   "metadata": {},
   "outputs": [
    {
     "name": "stdout",
     "output_type": "stream",
     "text": [
      "    이름  수학  영어   음악   체육  빅데이터\n",
      "0   서준  90  50   85  100    90\n",
      "1   우현  50  50   95   90    50\n",
      "2   인아  70  95  100   90   100\n",
      "3  한돌이  50  60   70  100   100\n"
     ]
    }
   ],
   "source": [
    "df.iloc[0, 2] = 50\n",
    "df.iloc[1, 1:3] = 50\n",
    "print(df)"
   ]
  },
  {
   "cell_type": "code",
   "execution_count": 544,
   "metadata": {},
   "outputs": [
    {
     "name": "stdout",
     "output_type": "stream",
     "text": [
      "    국어  영어  수학\n",
      "춘향  80  90  90\n",
      "몽룡  90  70  60\n",
      "향단  70  60  80\n",
      "방자  30  40  70\n"
     ]
    }
   ],
   "source": [
    "data = {'국어': [80, 90 ,70 ,30],\n",
    "        \"영어\" : [90, 70, 60, 40],\n",
    "        \"수학\" : [90, 60, 80, 70]}\n",
    "colums = [\"국어\", \"영어\", \"수학\"]\n",
    "index = [\"춘향\", \"몽룡\", \"향단\", \"방자\"]\n",
    "df = pd.DataFrame(data, index=index, columns=colums)\n",
    "\n",
    "print(df)\n"
   ]
  },
  {
   "cell_type": "code",
   "execution_count": 545,
   "metadata": {},
   "outputs": [
    {
     "name": "stdout",
     "output_type": "stream",
     "text": [
      "춘향    90\n",
      "몽룡    60\n",
      "향단    80\n",
      "방자    70\n",
      "Name: 수학, dtype: int64\n",
      "<class 'pandas.core.series.Series'>\n"
     ]
    }
   ],
   "source": [
    "print(df[\"수학\"])\n",
    "print(type(df[\"수학\"]))"
   ]
  },
  {
   "cell_type": "code",
   "execution_count": 546,
   "metadata": {},
   "outputs": [
    {
     "name": "stdout",
     "output_type": "stream",
     "text": [
      "    국어  영어\n",
      "춘향  80  90\n",
      "몽룡  90  70\n",
      "향단  70  60\n",
      "방자  30  40\n",
      "<class 'pandas.core.frame.DataFrame'>\n"
     ]
    }
   ],
   "source": [
    "print(df[[\"국어\", \"영어\"]])\n",
    "print(type(df[[\"국어\", \"영어\"]]))"
   ]
  },
  {
   "cell_type": "code",
   "execution_count": 547,
   "metadata": {},
   "outputs": [
    {
     "data": {
      "text/html": [
       "<div>\n",
       "<style scoped>\n",
       "    .dataframe tbody tr th:only-of-type {\n",
       "        vertical-align: middle;\n",
       "    }\n",
       "\n",
       "    .dataframe tbody tr th {\n",
       "        vertical-align: top;\n",
       "    }\n",
       "\n",
       "    .dataframe thead th {\n",
       "        text-align: right;\n",
       "    }\n",
       "</style>\n",
       "<table border=\"1\" class=\"dataframe\">\n",
       "  <thead>\n",
       "    <tr style=\"text-align: right;\">\n",
       "      <th></th>\n",
       "      <th>국어</th>\n",
       "      <th>영어</th>\n",
       "      <th>수학</th>\n",
       "      <th>평균</th>\n",
       "    </tr>\n",
       "  </thead>\n",
       "  <tbody>\n",
       "    <tr>\n",
       "      <th>춘향</th>\n",
       "      <td>80</td>\n",
       "      <td>90</td>\n",
       "      <td>90</td>\n",
       "      <td>86.666667</td>\n",
       "    </tr>\n",
       "    <tr>\n",
       "      <th>몽룡</th>\n",
       "      <td>90</td>\n",
       "      <td>70</td>\n",
       "      <td>60</td>\n",
       "      <td>73.333333</td>\n",
       "    </tr>\n",
       "    <tr>\n",
       "      <th>향단</th>\n",
       "      <td>70</td>\n",
       "      <td>60</td>\n",
       "      <td>80</td>\n",
       "      <td>70.000000</td>\n",
       "    </tr>\n",
       "    <tr>\n",
       "      <th>방자</th>\n",
       "      <td>30</td>\n",
       "      <td>40</td>\n",
       "      <td>70</td>\n",
       "      <td>46.666667</td>\n",
       "    </tr>\n",
       "  </tbody>\n",
       "</table>\n",
       "</div>"
      ],
      "text/plain": [
       "    국어  영어  수학         평균\n",
       "춘향  80  90  90  86.666667\n",
       "몽룡  90  70  60  73.333333\n",
       "향단  70  60  80  70.000000\n",
       "방자  30  40  70  46.666667"
      ]
     },
     "execution_count": 547,
     "metadata": {},
     "output_type": "execute_result"
    }
   ],
   "source": [
    "df[\"평균\"] = df.mean(axis = 1) # 평균 구하기\n",
    "df"
   ]
  },
  {
   "cell_type": "code",
   "execution_count": 548,
   "metadata": {},
   "outputs": [
    {
     "name": "stderr",
     "output_type": "stream",
     "text": [
      "C:\\Users\\Revo\\AppData\\Local\\Temp\\ipykernel_20948\\2187429758.py:2: SettingWithCopyWarning: \n",
      "A value is trying to be set on a copy of a slice from a DataFrame\n",
      "\n",
      "See the caveats in the documentation: https://pandas.pydata.org/pandas-docs/stable/user_guide/indexing.html#returning-a-view-versus-a-copy\n",
      "  df[\"영어\"][\"방자\"] = 80\n"
     ]
    },
    {
     "data": {
      "text/html": [
       "<div>\n",
       "<style scoped>\n",
       "    .dataframe tbody tr th:only-of-type {\n",
       "        vertical-align: middle;\n",
       "    }\n",
       "\n",
       "    .dataframe tbody tr th {\n",
       "        vertical-align: top;\n",
       "    }\n",
       "\n",
       "    .dataframe thead th {\n",
       "        text-align: right;\n",
       "    }\n",
       "</style>\n",
       "<table border=\"1\" class=\"dataframe\">\n",
       "  <thead>\n",
       "    <tr style=\"text-align: right;\">\n",
       "      <th></th>\n",
       "      <th>국어</th>\n",
       "      <th>영어</th>\n",
       "      <th>수학</th>\n",
       "      <th>평균</th>\n",
       "    </tr>\n",
       "  </thead>\n",
       "  <tbody>\n",
       "    <tr>\n",
       "      <th>춘향</th>\n",
       "      <td>80</td>\n",
       "      <td>90</td>\n",
       "      <td>90</td>\n",
       "      <td>86.666667</td>\n",
       "    </tr>\n",
       "    <tr>\n",
       "      <th>몽룡</th>\n",
       "      <td>90</td>\n",
       "      <td>70</td>\n",
       "      <td>60</td>\n",
       "      <td>73.333333</td>\n",
       "    </tr>\n",
       "    <tr>\n",
       "      <th>향단</th>\n",
       "      <td>70</td>\n",
       "      <td>60</td>\n",
       "      <td>80</td>\n",
       "      <td>70.000000</td>\n",
       "    </tr>\n",
       "    <tr>\n",
       "      <th>방자</th>\n",
       "      <td>30</td>\n",
       "      <td>80</td>\n",
       "      <td>70</td>\n",
       "      <td>56.666667</td>\n",
       "    </tr>\n",
       "  </tbody>\n",
       "</table>\n",
       "</div>"
      ],
      "text/plain": [
       "    국어  영어  수학         평균\n",
       "춘향  80  90  90  86.666667\n",
       "몽룡  90  70  60  73.333333\n",
       "향단  70  60  80  70.000000\n",
       "방자  30  80  70  56.666667"
      ]
     },
     "execution_count": 548,
     "metadata": {},
     "output_type": "execute_result"
    }
   ],
   "source": [
    "df.iloc[3, 1] = 80\n",
    "df[\"영어\"][\"방자\"] = 80\n",
    "df.loc[\"방자\", \"영어\"] = 80 # 전부 같음\n",
    "df[\"평균\"] = df.mean(axis = 1)\n",
    "df"
   ]
  },
  {
   "cell_type": "code",
   "execution_count": 549,
   "metadata": {},
   "outputs": [
    {
     "data": {
      "text/plain": [
       "pandas.core.frame.DataFrame"
      ]
     },
     "execution_count": 549,
     "metadata": {},
     "output_type": "execute_result"
    }
   ],
   "source": [
    "df[:1]  # 춘향의 점수를 데이터프레임으로 표현\n",
    "type(df[:1])"
   ]
  },
  {
   "cell_type": "code",
   "execution_count": 550,
   "metadata": {},
   "outputs": [
    {
     "name": "stdout",
     "output_type": "stream",
     "text": [
      "    국어  영어  수학    평균\n",
      "향단  70  60  80  70.0\n",
      "<class 'pandas.core.frame.DataFrame'>\n"
     ]
    },
    {
     "data": {
      "text/plain": [
       "pandas.core.series.Series"
      ]
     },
     "execution_count": 550,
     "metadata": {},
     "output_type": "execute_result"
    }
   ],
   "source": [
    "a = df [2:3]\n",
    "print(a)\n",
    "print(type(a))\n",
    "# 향단의 점수를 시리즈로 반환\n",
    "s = df.loc[\"향단\"]\n",
    "type(s)"
   ]
  },
  {
   "cell_type": "code",
   "execution_count": 551,
   "metadata": {},
   "outputs": [
    {
     "data": {
      "text/html": [
       "<div>\n",
       "<style scoped>\n",
       "    .dataframe tbody tr th:only-of-type {\n",
       "        vertical-align: middle;\n",
       "    }\n",
       "\n",
       "    .dataframe tbody tr th {\n",
       "        vertical-align: top;\n",
       "    }\n",
       "\n",
       "    .dataframe thead th {\n",
       "        text-align: right;\n",
       "    }\n",
       "</style>\n",
       "<table border=\"1\" class=\"dataframe\">\n",
       "  <thead>\n",
       "    <tr style=\"text-align: right;\">\n",
       "      <th></th>\n",
       "      <th>지역</th>\n",
       "      <th>2015</th>\n",
       "      <th>2010</th>\n",
       "      <th>2005</th>\n",
       "      <th>2000</th>\n",
       "      <th>2010-2015 증가율</th>\n",
       "    </tr>\n",
       "  </thead>\n",
       "  <tbody>\n",
       "    <tr>\n",
       "      <th>서울</th>\n",
       "      <td>수도권</td>\n",
       "      <td>9904312</td>\n",
       "      <td>9631482</td>\n",
       "      <td>9762546</td>\n",
       "      <td>9853972</td>\n",
       "      <td>0.0283</td>\n",
       "    </tr>\n",
       "    <tr>\n",
       "      <th>부산</th>\n",
       "      <td>경상권</td>\n",
       "      <td>3448737</td>\n",
       "      <td>3393191</td>\n",
       "      <td>3512547</td>\n",
       "      <td>3655437</td>\n",
       "      <td>0.0163</td>\n",
       "    </tr>\n",
       "    <tr>\n",
       "      <th>인천</th>\n",
       "      <td>수도권</td>\n",
       "      <td>2890451</td>\n",
       "      <td>2632035</td>\n",
       "      <td>2517680</td>\n",
       "      <td>2466338</td>\n",
       "      <td>0.0982</td>\n",
       "    </tr>\n",
       "    <tr>\n",
       "      <th>대구</th>\n",
       "      <td>경상권</td>\n",
       "      <td>2466052</td>\n",
       "      <td>2431774</td>\n",
       "      <td>2456016</td>\n",
       "      <td>2473990</td>\n",
       "      <td>0.0141</td>\n",
       "    </tr>\n",
       "  </tbody>\n",
       "</table>\n",
       "</div>"
      ],
      "text/plain": [
       "      지역     2015     2010     2005     2000  2010-2015 증가율\n",
       "서울   수도권  9904312  9631482  9762546  9853972         0.0283\n",
       " 부산  경상권  3448737  3393191  3512547  3655437         0.0163\n",
       "인천   수도권  2890451  2632035  2517680  2466338         0.0982\n",
       "대구   경상권  2466052  2431774  2456016  2473990         0.0141"
      ]
     },
     "execution_count": 551,
     "metadata": {},
     "output_type": "execute_result"
    }
   ],
   "source": [
    "data = {\n",
    "    \"2015\": [9904312, 3448737, 2890451, 2466052],\n",
    "    \"2010\": [9631482, 3393191, 2632035, 2431774],\n",
    "    \"2005\": [9762546, 3512547, 2517680, 2456016],\n",
    "    \"2000\": [9853972, 3655437, 2466338, 2473990],\n",
    "    \"지역\": [\"수도권\", \"경상권\", \"수도권\", \"경상권\"],\n",
    "    \"2010-2015 증가율\": [0.0283, 0.0163, 0.0982, 0.0141]\n",
    "}\n",
    "columns = [\"지역\", \"2015\", \"2010\", \"2005\", \"2000\", \"2010-2015 증가율\"]\n",
    "index = [\"서울\", \" 부산\", \"인천\", \"대구\"]\n",
    "df = pd.DataFrame(data, index=index, columns=columns)\n",
    "df"
   ]
  },
  {
   "cell_type": "code",
   "execution_count": 553,
   "metadata": {},
   "outputs": [
    {
     "data": {
      "text/plain": [
       "2015    3448737\n",
       "2010    3393191\n",
       "Name:  부산, dtype: object"
      ]
     },
     "execution_count": 553,
     "metadata": {},
     "output_type": "execute_result"
    }
   ],
   "source": [
    "#df.loc[\"부산\", \"2005\"]\n",
    "df.iloc[1, 3]\n",
    "\n",
    "df.loc[[\"인천\", \"대구\"], [\"2010-2015 증가율\"]]\n",
    "df.iloc[2:, -1]\n",
    "    \n",
    "df.loc[:, \"2005\"]\n",
    "df.iloc[:, :3]\n",
    "\n",
    "#df.loc[\"부산\", \"2015\":\"2010\"]\n",
    "df.iloc[1, 1:3]\n"
   ]
  }
 ],
 "metadata": {
  "kernelspec": {
   "display_name": "Python 3.9.5 64-bit",
   "language": "python",
   "name": "python3"
  },
  "language_info": {
   "codemirror_mode": {
    "name": "ipython",
    "version": 3
   },
   "file_extension": ".py",
   "mimetype": "text/x-python",
   "name": "python",
   "nbconvert_exporter": "python",
   "pygments_lexer": "ipython3",
   "version": "3.9.5"
  },
  "orig_nbformat": 4,
  "vscode": {
   "interpreter": {
    "hash": "d07e2768d665205303684de8508d9079185692021437b341c911edcaecb04f40"
   }
  }
 },
 "nbformat": 4,
 "nbformat_minor": 2
}
